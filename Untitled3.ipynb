{
  "nbformat": 4,
  "nbformat_minor": 0,
  "metadata": {
    "colab": {
      "name": "Untitled3.ipynb",
      "provenance": [],
      "authorship_tag": "ABX9TyM+ZsHb7B6nDhsQ7YSZwcbe",
      "include_colab_link": true
    },
    "kernelspec": {
      "name": "python3",
      "display_name": "Python 3"
    },
    "language_info": {
      "name": "python"
    }
  },
  "cells": [
    {
      "cell_type": "markdown",
      "metadata": {
        "id": "view-in-github",
        "colab_type": "text"
      },
      "source": [
        "<a href=\"https://colab.research.google.com/github/Prasan0704/Prasan0704/blob/main/Untitled3.ipynb\" target=\"_parent\"><img src=\"https://colab.research.google.com/assets/colab-badge.svg\" alt=\"Open In Colab\"/></a>"
      ]
    },
    {
      "cell_type": "code",
      "execution_count": null,
      "metadata": {
        "id": "xrHKGEC8hhzA"
      },
      "outputs": [],
      "source": [
        "# The provided code stub will read in a dictionary containing key/value pairs of name:[marks] for a list of students. Print the average of the marks array for the student name provided, showing 2 places after the decimal.\n",
        "\n",
        "# Example\n",
        "\n",
        "\n",
        "\n",
        "\n",
        "# The query_name is 'beta'. beta's average score is .\n",
        "\n",
        "# Input Format\n",
        "\n",
        "# The first line contains the integer , the number of students' records. The next  lines contain the names and marks obtained by a student, each value separated by a space. The final line contains query_name, the name of a student to query.\n",
        "\n",
        "# Constraints\n",
        "\n",
        "# Output Format\n",
        "\n",
        "# Print one line: The average of the marks obtained by the particular student correct to 2 decimal places.\n",
        "\n",
        "# Sample Input 0\n",
        "\n",
        "# 3\n",
        "# Krishna 67 68 69\n",
        "# Arjun 70 98 63\n",
        "# Malika 52 56 60\n",
        "# Malika\n",
        "# Sample Output 0\n",
        "\n",
        "# 56.00\n",
        "# Explanation 0\n",
        "\n",
        "# Marks for Malika are  whose average is \n",
        "\n",
        "# Sample Input 1\n",
        "\n",
        "# 2\n",
        "# Harsh 25 26.5 28\n",
        "# Anurag 26 28 30\n",
        "# Harsh"
      ]
    },
    {
      "cell_type": "code",
      "source": [
        "if __name__ == '__main__':\n",
        "    n = int(input())\n",
        "    student_marks = {}\n",
        "    for _ in range(n):\n",
        "        name, *line = input().split()\n",
        "        scores = list(map(float, line))\n",
        "        student_marks[name] = scores\n",
        "    query_name = input()\n",
        "\n",
        "    if query_name in student_marks:\n",
        "        x = ((float(student_marks[query_name][0]) + float(student_marks[query_name][1]) + float(student_marks[query_name][2])) / 3)\n",
        "    \n",
        "    print('%.2f' % x)\n"
      ],
      "metadata": {
        "colab": {
          "base_uri": "https://localhost:8080/"
        },
        "id": "MooTESNaiCvj",
        "outputId": "ecc4c241-6342-475f-fe28-084770dce41c"
      },
      "execution_count": 4,
      "outputs": [
        {
          "output_type": "stream",
          "name": "stdout",
          "text": [
            "2\n",
            "prasan 12 13 14\n",
            "dsa 14 15 17\n",
            "prasan\n",
            "13.00\n"
          ]
        }
      ]
    }
  ]
}